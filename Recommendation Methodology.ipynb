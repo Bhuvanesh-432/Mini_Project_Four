{
 "cells": [
  {
   "cell_type": "code",
   "execution_count": 1,
   "id": "d7c9f273",
   "metadata": {},
   "outputs": [
    {
     "name": "stdout",
     "output_type": "stream",
     "text": [
      "Top Recommendations:\n",
      "\n",
      "             name             city  rating  rating_count   cost cuisine  \\\n",
      "0  Domino's Pizza  Fatehgarh-sahib     4.4          20.0  400.0  Pizzas   \n",
      "1  Domino's Pizza           Hospet     4.4          20.0  400.0  Pizzas   \n",
      "2  Domino's Pizza          Katihar     4.4          20.0  400.0  Pizzas   \n",
      "3  Domino's Pizza             Moga     4.4          20.0  400.0  Pizzas   \n",
      "4  Domino's Pizza         Silvassa     4.4          20.0  400.0  Pizzas   \n",
      "\n",
      "                                             address  \n",
      "0  Domino's Pizza, Ground Floor, Fateh Complex,si...  \n",
      "1  Domino's Pizza, Ground Floor, Virat Complex,Bu...  \n",
      "2  Domino's Pizza, Shop No A5 - Ground Floor, Kat...  \n",
      "3  Domino's Pizza, UpperGroundFloor,SunnyTowerNea...  \n",
      "4  Domino's Pizza, Shop No.29, Ground Floor, Pram...  \n"
     ]
    }
   ],
   "source": [
    "import pandas as pd\n",
    "import numpy as np\n",
    "import pickle\n",
    "from sklearn.metrics.pairwise import cosine_similarity\n",
    "\n",
    "# Load datasets\n",
    "cleaned_df = pd.read_csv(\"cleaned_data.csv\")\n",
    "encoded_df = pd.read_csv(\"encoded_data.csv\")\n",
    "\n",
    "# Load encoder\n",
    "with open(\"encoder.pkl\", \"rb\") as f:\n",
    "    encoder = pickle.load(f)\n",
    "\n",
    "# --- Recommendation Function ---\n",
    "def recommend_restaurants(selected_restaurant_name, top_n=5):\n",
    "    try:\n",
    "        # Find the index of the selected restaurant\n",
    "        selected_index = cleaned_df[cleaned_df['name'] == selected_restaurant_name].index[0]\n",
    "\n",
    "        # Compute cosine similarity between selected and all others\n",
    "        similarity_scores = cosine_similarity(\n",
    "            [encoded_df.iloc[selected_index]],\n",
    "            encoded_df\n",
    "        )[0]\n",
    "\n",
    "        # Get indices of top similar restaurants (excluding self)\n",
    "        similar_indices = np.argsort(similarity_scores)[::-1][1:top_n+1]\n",
    "\n",
    "        # Map back to cleaned data\n",
    "        recommendations = cleaned_df.iloc[similar_indices][[\n",
    "            'name', 'city', 'rating', 'rating_count', 'cost', 'cuisine', 'address'\n",
    "        ]]\n",
    "\n",
    "        return recommendations.reset_index(drop=True)\n",
    "    \n",
    "    except IndexError:\n",
    "        print(\"❌ Error: Selected restaurant not found.\")\n",
    "        return pd.DataFrame()\n",
    "\n",
    "# --- Example Usage ---\n",
    "# Get top 5 restaurants similar to 'Domino's Pizza'\n",
    "result = recommend_restaurants(\"Domino's Pizza\", top_n=5)\n",
    "\n",
    "print(\"Top Recommendations:\\n\")\n",
    "print(result)\n"
   ]
  }
 ],
 "metadata": {
  "kernelspec": {
   "display_name": "Python 3",
   "language": "python",
   "name": "python3"
  },
  "language_info": {
   "codemirror_mode": {
    "name": "ipython",
    "version": 3
   },
   "file_extension": ".py",
   "mimetype": "text/x-python",
   "name": "python",
   "nbconvert_exporter": "python",
   "pygments_lexer": "ipython3",
   "version": "3.13.2"
  }
 },
 "nbformat": 4,
 "nbformat_minor": 5
}
