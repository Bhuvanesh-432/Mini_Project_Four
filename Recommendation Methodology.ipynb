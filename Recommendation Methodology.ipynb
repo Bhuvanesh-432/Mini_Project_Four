{
 "cells": [
  {
   "cell_type": "code",
   "execution_count": 1,
   "id": "d7c9f273",
   "metadata": {},
   "outputs": [
    {
     "name": "stdout",
     "output_type": "stream",
     "text": [
      "Recommendations for: Domino's Pizza\n",
      "\n",
      "                            name                 city  rating  \\\n",
      "16886  SANGEETHA VEG. RESTAURANT  Perumbakkam,Chennai     4.3   \n",
      "17589                   Al Ameen    Mogappair,Chennai     4.0   \n",
      "46874               The Verandah         Kothrud,Pune     4.4   \n",
      "9                  Royal Chicken               Abohar     4.2   \n",
      "46013                Bhukkaholic                Patna     3.8   \n",
      "\n",
      "                      cuisine   cost  \n",
      "16886    South Indian,Chinese  350.0  \n",
      "17589         Afghani,Chinese  300.0  \n",
      "46874  Beverages,South Indian  500.0  \n",
      "9        Mughlai,North Indian  200.0  \n",
      "46013          Indian,Chinese  250.0  \n"
     ]
    }
   ],
   "source": [
    "import pandas as pd\n",
    "from sklearn.metrics.pairwise import cosine_similarity\n",
    "\n",
    "# Load data\n",
    "encoded_df = pd.read_csv(\"encoded_data.csv\")\n",
    "cleaned_df = pd.read_csv(\"cleaned_data.csv\")\n",
    "\n",
    "# Ensure index alignment\n",
    "encoded_df.reset_index(drop=True, inplace=True)\n",
    "cleaned_df.reset_index(drop=True, inplace=True)\n",
    "\n",
    "# Function to get recommendations\n",
    "def recommend_restaurants(restaurant_index, top_n=5):\n",
    "    # Compute cosine similarity\n",
    "    similarity = cosine_similarity([encoded_df.iloc[restaurant_index]], encoded_df)[0]\n",
    "\n",
    "    # Get indices of top-N most similar (excluding self)\n",
    "    similar_indices = similarity.argsort()[::-1][1:top_n+1]\n",
    "\n",
    "    # Map to cleaned data\n",
    "    recommended = cleaned_df.iloc[similar_indices]\n",
    "    return recommended[['name', 'city', 'rating', 'cuisine', 'cost']]\n",
    "\n",
    "# Example: Get recommendations for restaurant at index 10\n",
    "index = 10  # Change this index based on the restaurant\n",
    "recommendations = recommend_restaurants(index, top_n=5)\n",
    "print(f\"Recommendations for: {cleaned_df.iloc[index]['name']}\\n\")\n",
    "print(recommendations)\n"
   ]
  }
 ],
 "metadata": {
  "kernelspec": {
   "display_name": "Python 3",
   "language": "python",
   "name": "python3"
  },
  "language_info": {
   "codemirror_mode": {
    "name": "ipython",
    "version": 3
   },
   "file_extension": ".py",
   "mimetype": "text/x-python",
   "name": "python",
   "nbconvert_exporter": "python",
   "pygments_lexer": "ipython3",
   "version": "3.13.2"
  }
 },
 "nbformat": 4,
 "nbformat_minor": 5
}
