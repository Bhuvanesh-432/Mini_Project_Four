{
 "cells": [
  {
   "cell_type": "code",
   "execution_count": 1,
   "id": "10ef0fa9",
   "metadata": {},
   "outputs": [
    {
     "name": "stderr",
     "output_type": "stream",
     "text": [
      "<>:18: SyntaxWarning: invalid escape sequence '\\d'\n",
      "<>:18: SyntaxWarning: invalid escape sequence '\\d'\n",
      "C:\\Users\\bhuva\\AppData\\Local\\Temp\\ipykernel_3912\\2263528914.py:18: SyntaxWarning: invalid escape sequence '\\d'\n",
      "  df['rating_count'] = df['rating_count'].astype(str).str.extract('(\\d+)').astype(float)\n"
     ]
    },
    {
     "name": "stdout",
     "output_type": "stream",
     "text": [
      "✅ Cleaned data saved as cleaned_data.csv (license data removed).\n"
     ]
    }
   ],
   "source": [
    "import pandas as pd\n",
    "import numpy as np\n",
    "\n",
    "# Load the raw Swiggy data\n",
    "df = pd.read_csv(\"swiggy.csv\")\n",
    "\n",
    "# Remove any columns with \"license\" in the column name (case insensitive)\n",
    "df = df.loc[:, ~df.columns.str.contains('license', case=False)]\n",
    "\n",
    "# Remove rows where any cell contains \"license\" (case insensitive)\n",
    "df = df[~df.apply(lambda row: row.astype(str).str.contains(\"license\", case=False)).any(axis=1)]\n",
    "\n",
    "# Clean ratings\n",
    "df['rating'] = df['rating'].replace('--', np.nan)\n",
    "df['rating'] = pd.to_numeric(df['rating'], errors='coerce')\n",
    "\n",
    "# Clean rating count (e.g., '100+ ratings' → 100)\n",
    "df['rating_count'] = df['rating_count'].astype(str).str.extract('(\\d+)').astype(float)\n",
    "\n",
    "# Clean cost (remove ₹ and whitespace)\n",
    "df['cost'] = df['cost'].replace('[₹, ]', '', regex=True).astype(float)\n",
    "\n",
    "# Drop rows with essential missing values\n",
    "df.dropna(subset=['rating', 'rating_count', 'cost', 'cuisine', 'city'], inplace=True)\n",
    "\n",
    "# Save the cleaned data\n",
    "df.to_csv(\"cleaned_data.csv\", index=False)\n",
    "\n",
    "print(\"✅ Cleaned data saved as cleaned_data.csv (license data removed).\")\n"
   ]
  },
  {
   "cell_type": "code",
   "execution_count": 1,
   "id": "4f96b464",
   "metadata": {},
   "outputs": [],
   "source": [
    "import pandas as pd\n",
    "\n",
    "df = pd.read_csv(\"cleaned_data.csv\")\n"
   ]
  },
  {
   "cell_type": "code",
   "execution_count": 2,
   "id": "47727577",
   "metadata": {},
   "outputs": [],
   "source": [
    "drop_cols = ['restaurant_id', 'license', 'url', 'address', 'menu_path']\n",
    "df = df.drop(columns=[col for col in drop_cols if col in df.columns])\n"
   ]
  },
  {
   "cell_type": "code",
   "execution_count": 3,
   "id": "5cfe8025",
   "metadata": {},
   "outputs": [],
   "source": [
    "categorical_cols = ['name', 'city', 'cuisine']\n",
    "numerical_cols = ['rating', 'rating_count', 'cost']\n"
   ]
  },
  {
   "cell_type": "code",
   "execution_count": 6,
   "id": "48bb9727",
   "metadata": {},
   "outputs": [],
   "source": [
    "import pandas as pd\n",
    "from sklearn.preprocessing import OneHotEncoder\n",
    "import pickle\n",
    "\n",
    "# Load cleaned data\n",
    "df = pd.read_csv(\"cleaned_data.csv\")\n",
    "\n",
    "# Drop unnecessary columns\n",
    "drop_cols = ['restaurant_id', 'license', 'url', 'address', 'menu_path', 'name']\n",
    "df = df.drop(columns=[col for col in drop_cols if col in df.columns])\n",
    "\n",
    "# Split multi-cuisine into separate dummy columns\n",
    "df['cuisine'] = df['cuisine'].str.split(',')\n",
    "df = df.explode('cuisine')\n",
    "df['cuisine'] = df['cuisine'].str.strip()  # remove extra spaces\n",
    "\n",
    "# One-hot encode 'city' and 'cuisine'\n",
    "encoder = OneHotEncoder(handle_unknown='ignore', sparse_output=False)\n",
    "encoded_array = encoder.fit_transform(df[['city', 'cuisine']])\n",
    "\n",
    "# Save encoder\n",
    "with open('encoder.pkl', 'wb') as f:\n",
    "    pickle.dump(encoder, f)\n",
    "\n",
    "# Create encoded DataFrame\n",
    "encoded_df = pd.DataFrame(encoded_array, columns=encoder.get_feature_names_out(['city', 'cuisine']), index=df.index)\n",
    "\n",
    "# Combine with numerical columns\n",
    "numerical_cols = ['rating', 'rating_count', 'cost']\n",
    "final_encoded_df = pd.concat([df[numerical_cols], encoded_df], axis=1)\n",
    "\n",
    "# Drop duplicates after explode to reduce size\n",
    "final_encoded_df = final_encoded_df.drop_duplicates()\n",
    "\n",
    "# Save\n",
    "final_encoded_df.to_csv(\"encoded_data.csv\", index=False)\n"
   ]
  }
 ],
 "metadata": {
  "kernelspec": {
   "display_name": "Python 3",
   "language": "python",
   "name": "python3"
  },
  "language_info": {
   "codemirror_mode": {
    "name": "ipython",
    "version": 3
   },
   "file_extension": ".py",
   "mimetype": "text/x-python",
   "name": "python",
   "nbconvert_exporter": "python",
   "pygments_lexer": "ipython3",
   "version": "3.13.2"
  }
 },
 "nbformat": 4,
 "nbformat_minor": 5
}
